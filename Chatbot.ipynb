{
  "nbformat": 4,
  "nbformat_minor": 0,
  "metadata": {
    "colab": {
      "name": "Chatbot.ipynb",
      "provenance": []
    },
    "kernelspec": {
      "name": "python3",
      "display_name": "Python 3"
    },
    "language_info": {
      "name": "python"
    }
  },
  "cells": [
    {
      "cell_type": "code",
      "metadata": {
        "id": "xu21bMmAGXi_"
      },
      "source": [
        "import nltk\n",
        "import numpy as np\n",
        "import pickle\n",
        "import random"
      ],
      "execution_count": 14,
      "outputs": []
    },
    {
      "cell_type": "code",
      "metadata": {
        "colab": {
          "base_uri": "https://localhost:8080/"
        },
        "id": "KQ2kQkvmGe8l",
        "outputId": "713d9e3e-c61c-4861-92c7-fe5536a01ee7"
      },
      "source": [
        "nltk.download('punkt')\n",
        "nltk.download('stopwords')\n",
        "nltk.download('wordnet')"
      ],
      "execution_count": 15,
      "outputs": [
        {
          "output_type": "stream",
          "name": "stdout",
          "text": [
            "[nltk_data] Downloading package punkt to /root/nltk_data...\n",
            "[nltk_data]   Package punkt is already up-to-date!\n",
            "[nltk_data] Downloading package stopwords to /root/nltk_data...\n",
            "[nltk_data]   Package stopwords is already up-to-date!\n",
            "[nltk_data] Downloading package wordnet to /root/nltk_data...\n",
            "[nltk_data]   Package wordnet is already up-to-date!\n"
          ]
        },
        {
          "output_type": "execute_result",
          "data": {
            "text/plain": [
              "True"
            ]
          },
          "metadata": {},
          "execution_count": 15
        }
      ]
    },
    {
      "cell_type": "code",
      "metadata": {
        "id": "Rhlok8FRbDir"
      },
      "source": [
        "#Importing NLTK libraries...\n",
        "from nltk.tokenize import word_tokenize\n",
        "from nltk.stem import WordNetLemmatizer\n",
        "from nltk.corpus import stopwords "
      ],
      "execution_count": 16,
      "outputs": []
    },
    {
      "cell_type": "code",
      "metadata": {
        "id": "K2mvAFPRbjMS"
      },
      "source": [
        "#Reading file...\n",
        "import json\n",
        "with open('intents.json', 'r') as file:\n",
        "  intents = json.load(file)"
      ],
      "execution_count": 17,
      "outputs": []
    },
    {
      "cell_type": "code",
      "metadata": {
        "id": "tKSIUrR5dWAh"
      },
      "source": [
        "#init classes...\n",
        "words = []\n",
        "classes = []\n",
        "documents = []\n",
        "ignore_words = [\"?\",\"!\",\".\"]"
      ],
      "execution_count": 18,
      "outputs": []
    },
    {
      "cell_type": "code",
      "metadata": {
        "id": "BwoiO9QDd9Ms"
      },
      "source": [
        "#Tokenization...\n",
        "for intent in intents['intents']:\n",
        "  for pattern in intent['patterns']:\n",
        "    tokenized_pattern = word_tokenize(pattern)\n",
        "    #extending words...basically creating corpus...\n",
        "    words.extend(tokenized_pattern)\n",
        "    #creating docs like (['how','are','you'],'greeting')\n",
        "    documents.append((tokenized_pattern, intent['tag']))\n",
        "    #basically creating a list of tags called classes....\n",
        "    if(intent['tag'] not in classes):\n",
        "      classes.append(intent['tag'])"
      ],
      "execution_count": 19,
      "outputs": []
    },
    {
      "cell_type": "code",
      "metadata": {
        "id": "EoYWFzjeg9Bt"
      },
      "source": [
        "#Lemmatizing and cleaning corpus...\n",
        "lemmatizer = WordNetLemmatizer()\n",
        "words = [lemmatizer.lemmatize(word.lower()) for word in words if word not in ignore_words]\n",
        "\n",
        "words=sorted(list(set(words)))\n",
        "\n",
        "classes = sorted(list(set(classes)))"
      ],
      "execution_count": 20,
      "outputs": []
    },
    {
      "cell_type": "code",
      "metadata": {
        "id": "jtnfk4d1jIAt"
      },
      "source": [
        "# creating pickle file for corpus ie words and for tags ie classes\n",
        "pickle.dump(words, open('words.pkl','wb'))\n",
        "pickle.dump(classes, open('classes.pkl','wb'))"
      ],
      "execution_count": 21,
      "outputs": []
    },
    {
      "cell_type": "code",
      "metadata": {
        "id": "AsRe8bq1k4M2"
      },
      "source": [
        "training = []\n",
        "output_empty = [0] * len(classes)\n",
        "\n",
        "for doc in documents:\n",
        "  #bag of wordss..\n",
        "  bag = []\n",
        "\n",
        "  #taking out intent pattern for that particular intent type...\n",
        "  pattern_of_words = doc[0]\n",
        "\n",
        "  #lemmatizing those patterns - create base word, in attempt to represent related words\n",
        "  pattern_of_words = [lemmatizer.lemmatize(word.lower()) for word in pattern_of_words]\n",
        "\n",
        "  # create our bag of words array with 1, if word match found in current pattern\n",
        "  for word in words:\n",
        "    bag.append(1) if word in pattern_of_words else bag.append(0)\n",
        "  # output is a '0' for each tag and '1' for current tag (for each pattern)\n",
        "  output_row = list(output_empty)\n",
        "  output_row[classes.index(doc[1])]=1\n",
        "\n",
        "  training.append([bag, output_row])"
      ],
      "execution_count": 22,
      "outputs": []
    },
    {
      "cell_type": "code",
      "metadata": {
        "colab": {
          "base_uri": "https://localhost:8080/"
        },
        "id": "uSmuIeGDhT8h",
        "outputId": "d0545c08-54dc-4627-ead6-e385b758d4fa"
      },
      "source": [
        "random.shuffle(training)\n",
        "training = np.array(training)\n",
        "\n",
        "#create training data..\n",
        "features = list(training[:,0])\n",
        "target = list(training[:,1])"
      ],
      "execution_count": 23,
      "outputs": [
        {
          "output_type": "stream",
          "name": "stderr",
          "text": [
            "/usr/local/lib/python3.7/dist-packages/ipykernel_launcher.py:2: VisibleDeprecationWarning: Creating an ndarray from ragged nested sequences (which is a list-or-tuple of lists-or-tuples-or ndarrays with different lengths or shapes) is deprecated. If you meant to do this, you must specify 'dtype=object' when creating the ndarray\n",
            "  \n"
          ]
        }
      ]
    },
    {
      "cell_type": "code",
      "metadata": {
        "id": "V9b6j41UYRBW"
      },
      "source": [
        ""
      ],
      "execution_count": 23,
      "outputs": []
    },
    {
      "cell_type": "code",
      "metadata": {
        "id": "IF9GCdFSGKWg"
      },
      "source": [
        "import tensorflow as tf\n",
        "from tensorflow.keras.layers import Dense, Dropout\n",
        "from tensorflow.keras.models import Sequential, load_model\n",
        "from tensorflow.keras.optimizers import SGD"
      ],
      "execution_count": 24,
      "outputs": []
    },
    {
      "cell_type": "code",
      "metadata": {
        "colab": {
          "base_uri": "https://localhost:8080/"
        },
        "id": "wz52SZzwPVu9",
        "outputId": "3a5faed7-266b-4874-bccd-ca4cd3d390cb"
      },
      "source": [
        "#Created a 3 layered Sequential Neural Network with input of the array of each bag of word list...\n",
        "#And output as each target layer 8 tag output to predict....\n",
        "\n",
        "model = Sequential()\n",
        "\n",
        "model.add(Dense(128, activation='relu', input_shape=(len(features[0]),)))\n",
        "model.add(Dropout(0.5))\n",
        "model.add(Dense(64, activation=\"relu\"))\n",
        "model.add(Dropout(0.5))\n",
        "model.add(Dense(len(target[0]), activation=\"softmax\"))\n",
        "model.summary()"
      ],
      "execution_count": 25,
      "outputs": [
        {
          "output_type": "stream",
          "name": "stdout",
          "text": [
            "Model: \"sequential\"\n",
            "_________________________________________________________________\n",
            " Layer (type)                Output Shape              Param #   \n",
            "=================================================================\n",
            " dense (Dense)               (None, 128)               10752     \n",
            "                                                                 \n",
            " dropout (Dropout)           (None, 128)               0         \n",
            "                                                                 \n",
            " dense_1 (Dense)             (None, 64)                8256      \n",
            "                                                                 \n",
            " dropout_1 (Dropout)         (None, 64)                0         \n",
            "                                                                 \n",
            " dense_2 (Dense)             (None, 10)                650       \n",
            "                                                                 \n",
            "=================================================================\n",
            "Total params: 19,658\n",
            "Trainable params: 19,658\n",
            "Non-trainable params: 0\n",
            "_________________________________________________________________\n"
          ]
        }
      ]
    },
    {
      "cell_type": "code",
      "metadata": {
        "id": "6gcEn9afR4Ya"
      },
      "source": [
        "# Compile model. Stochastic gradient descent with Nesterov accelerated gradient gives good results for this model\n",
        "sgd = SGD(learning_rate=0.01,momentum=0.9,nesterov=True,decay=1e-6)\n",
        "model.compile(optimizer=sgd,loss='categorical_crossentropy',metrics=['accuracy'])"
      ],
      "execution_count": 26,
      "outputs": []
    },
    {
      "cell_type": "code",
      "metadata": {
        "colab": {
          "base_uri": "https://localhost:8080/"
        },
        "id": "7VWPdmDxUQJA",
        "outputId": "a2668b20-5090-4d0e-a083-9d7c4ee87067"
      },
      "source": [
        "#fitting and saving model...\n",
        "fittedModel = model.fit(np.array(features),np.array(target), epochs=57, batch_size=5,verbose=2)\n",
        "model.save('chatbot_model_V1.h5',fittedModel)"
      ],
      "execution_count": 27,
      "outputs": [
        {
          "output_type": "stream",
          "name": "stdout",
          "text": [
            "Epoch 1/57\n",
            "12/12 - 1s - loss: 2.3154 - accuracy: 0.1379 - 521ms/epoch - 43ms/step\n",
            "Epoch 2/57\n",
            "12/12 - 0s - loss: 2.1776 - accuracy: 0.2069 - 17ms/epoch - 1ms/step\n",
            "Epoch 3/57\n",
            "12/12 - 0s - loss: 2.1113 - accuracy: 0.2586 - 15ms/epoch - 1ms/step\n",
            "Epoch 4/57\n",
            "12/12 - 0s - loss: 2.0344 - accuracy: 0.3276 - 17ms/epoch - 1ms/step\n",
            "Epoch 5/57\n",
            "12/12 - 0s - loss: 1.9199 - accuracy: 0.2931 - 18ms/epoch - 2ms/step\n",
            "Epoch 6/57\n",
            "12/12 - 0s - loss: 1.7917 - accuracy: 0.4138 - 15ms/epoch - 1ms/step\n",
            "Epoch 7/57\n",
            "12/12 - 0s - loss: 1.7592 - accuracy: 0.3793 - 17ms/epoch - 1ms/step\n",
            "Epoch 8/57\n",
            "12/12 - 0s - loss: 1.5681 - accuracy: 0.5172 - 16ms/epoch - 1ms/step\n",
            "Epoch 9/57\n",
            "12/12 - 0s - loss: 1.5138 - accuracy: 0.5345 - 18ms/epoch - 2ms/step\n",
            "Epoch 10/57\n",
            "12/12 - 0s - loss: 1.4097 - accuracy: 0.5000 - 14ms/epoch - 1ms/step\n",
            "Epoch 11/57\n",
            "12/12 - 0s - loss: 1.3118 - accuracy: 0.5517 - 19ms/epoch - 2ms/step\n",
            "Epoch 12/57\n",
            "12/12 - 0s - loss: 1.1536 - accuracy: 0.6724 - 20ms/epoch - 2ms/step\n",
            "Epoch 13/57\n",
            "12/12 - 0s - loss: 1.2467 - accuracy: 0.6034 - 21ms/epoch - 2ms/step\n",
            "Epoch 14/57\n",
            "12/12 - 0s - loss: 1.0917 - accuracy: 0.6207 - 21ms/epoch - 2ms/step\n",
            "Epoch 15/57\n",
            "12/12 - 0s - loss: 0.9836 - accuracy: 0.6897 - 20ms/epoch - 2ms/step\n",
            "Epoch 16/57\n",
            "12/12 - 0s - loss: 0.9038 - accuracy: 0.7414 - 24ms/epoch - 2ms/step\n",
            "Epoch 17/57\n",
            "12/12 - 0s - loss: 0.9542 - accuracy: 0.7241 - 20ms/epoch - 2ms/step\n",
            "Epoch 18/57\n",
            "12/12 - 0s - loss: 0.9060 - accuracy: 0.6724 - 20ms/epoch - 2ms/step\n",
            "Epoch 19/57\n",
            "12/12 - 0s - loss: 0.9484 - accuracy: 0.6897 - 19ms/epoch - 2ms/step\n",
            "Epoch 20/57\n",
            "12/12 - 0s - loss: 0.7957 - accuracy: 0.8276 - 16ms/epoch - 1ms/step\n",
            "Epoch 21/57\n",
            "12/12 - 0s - loss: 0.8378 - accuracy: 0.6207 - 20ms/epoch - 2ms/step\n",
            "Epoch 22/57\n",
            "12/12 - 0s - loss: 0.5748 - accuracy: 0.8276 - 22ms/epoch - 2ms/step\n",
            "Epoch 23/57\n",
            "12/12 - 0s - loss: 0.6192 - accuracy: 0.8276 - 20ms/epoch - 2ms/step\n",
            "Epoch 24/57\n",
            "12/12 - 0s - loss: 0.5651 - accuracy: 0.8103 - 20ms/epoch - 2ms/step\n",
            "Epoch 25/57\n",
            "12/12 - 0s - loss: 0.6350 - accuracy: 0.8276 - 18ms/epoch - 2ms/step\n",
            "Epoch 26/57\n",
            "12/12 - 0s - loss: 0.7984 - accuracy: 0.7414 - 15ms/epoch - 1ms/step\n",
            "Epoch 27/57\n",
            "12/12 - 0s - loss: 0.5568 - accuracy: 0.8276 - 19ms/epoch - 2ms/step\n",
            "Epoch 28/57\n",
            "12/12 - 0s - loss: 0.4522 - accuracy: 0.8621 - 23ms/epoch - 2ms/step\n",
            "Epoch 29/57\n",
            "12/12 - 0s - loss: 0.5921 - accuracy: 0.8448 - 19ms/epoch - 2ms/step\n",
            "Epoch 30/57\n",
            "12/12 - 0s - loss: 0.7049 - accuracy: 0.7586 - 19ms/epoch - 2ms/step\n",
            "Epoch 31/57\n",
            "12/12 - 0s - loss: 0.4752 - accuracy: 0.8966 - 21ms/epoch - 2ms/step\n",
            "Epoch 32/57\n",
            "12/12 - 0s - loss: 0.5303 - accuracy: 0.8276 - 20ms/epoch - 2ms/step\n",
            "Epoch 33/57\n",
            "12/12 - 0s - loss: 0.3575 - accuracy: 0.9310 - 21ms/epoch - 2ms/step\n",
            "Epoch 34/57\n",
            "12/12 - 0s - loss: 0.3940 - accuracy: 0.8793 - 19ms/epoch - 2ms/step\n",
            "Epoch 35/57\n",
            "12/12 - 0s - loss: 0.5307 - accuracy: 0.8276 - 19ms/epoch - 2ms/step\n",
            "Epoch 36/57\n",
            "12/12 - 0s - loss: 0.3022 - accuracy: 0.8966 - 19ms/epoch - 2ms/step\n",
            "Epoch 37/57\n",
            "12/12 - 0s - loss: 0.5521 - accuracy: 0.8103 - 18ms/epoch - 2ms/step\n",
            "Epoch 38/57\n",
            "12/12 - 0s - loss: 0.3408 - accuracy: 0.9310 - 19ms/epoch - 2ms/step\n",
            "Epoch 39/57\n",
            "12/12 - 0s - loss: 0.4261 - accuracy: 0.8621 - 21ms/epoch - 2ms/step\n",
            "Epoch 40/57\n",
            "12/12 - 0s - loss: 0.3469 - accuracy: 0.8793 - 20ms/epoch - 2ms/step\n",
            "Epoch 41/57\n",
            "12/12 - 0s - loss: 0.3464 - accuracy: 0.8793 - 22ms/epoch - 2ms/step\n",
            "Epoch 42/57\n",
            "12/12 - 0s - loss: 0.2625 - accuracy: 0.9310 - 23ms/epoch - 2ms/step\n",
            "Epoch 43/57\n",
            "12/12 - 0s - loss: 0.3251 - accuracy: 0.9138 - 23ms/epoch - 2ms/step\n",
            "Epoch 44/57\n",
            "12/12 - 0s - loss: 0.3076 - accuracy: 0.9138 - 25ms/epoch - 2ms/step\n",
            "Epoch 45/57\n",
            "12/12 - 0s - loss: 0.2107 - accuracy: 0.9483 - 26ms/epoch - 2ms/step\n",
            "Epoch 46/57\n",
            "12/12 - 0s - loss: 0.2806 - accuracy: 0.9310 - 23ms/epoch - 2ms/step\n",
            "Epoch 47/57\n",
            "12/12 - 0s - loss: 0.1878 - accuracy: 0.9310 - 19ms/epoch - 2ms/step\n",
            "Epoch 48/57\n",
            "12/12 - 0s - loss: 0.2093 - accuracy: 0.9138 - 21ms/epoch - 2ms/step\n",
            "Epoch 49/57\n",
            "12/12 - 0s - loss: 0.3783 - accuracy: 0.8793 - 19ms/epoch - 2ms/step\n",
            "Epoch 50/57\n",
            "12/12 - 0s - loss: 0.2206 - accuracy: 0.9483 - 18ms/epoch - 1ms/step\n",
            "Epoch 51/57\n",
            "12/12 - 0s - loss: 0.1858 - accuracy: 0.9483 - 18ms/epoch - 1ms/step\n",
            "Epoch 52/57\n",
            "12/12 - 0s - loss: 0.2706 - accuracy: 0.9138 - 16ms/epoch - 1ms/step\n",
            "Epoch 53/57\n",
            "12/12 - 0s - loss: 0.1753 - accuracy: 0.9310 - 22ms/epoch - 2ms/step\n",
            "Epoch 54/57\n",
            "12/12 - 0s - loss: 0.1778 - accuracy: 0.9483 - 24ms/epoch - 2ms/step\n",
            "Epoch 55/57\n",
            "12/12 - 0s - loss: 0.2236 - accuracy: 0.9310 - 21ms/epoch - 2ms/step\n",
            "Epoch 56/57\n",
            "12/12 - 0s - loss: 0.2149 - accuracy: 0.9483 - 22ms/epoch - 2ms/step\n",
            "Epoch 57/57\n",
            "12/12 - 0s - loss: 0.2000 - accuracy: 0.9310 - 23ms/epoch - 2ms/step\n"
          ]
        }
      ]
    },
    {
      "cell_type": "code",
      "metadata": {
        "colab": {
          "base_uri": "https://localhost:8080/"
        },
        "id": "9z-2J3voVCA6",
        "outputId": "8c35023f-49b2-47d4-eb2d-65c99adc3336"
      },
      "source": [
        "inputFromClient = 'Hello how are you'\n",
        "client_corpus = []\n",
        "for word in words:\n",
        "    client_corpus.append(1) if word in inputFromClient else client_corpus.append(0)\n",
        "\n",
        "print(len(client_corpus))\n",
        "client_corpus = np.array(client_corpus).reshape(1,-1)\n",
        "client_corpus.shape"
      ],
      "execution_count": 53,
      "outputs": [
        {
          "output_type": "stream",
          "name": "stdout",
          "text": [
            "[0, 1, 0, 0, 0, 0, 0, 1, 0, 0, 0, 0, 0, 0, 0, 0, 0, 0, 0, 0, 0, 0, 0, 0, 0, 0, 0, 0, 0, 0, 0, 0, 0, 0, 0, 0, 0, 1, 0, 0, 0, 0, 0, 0, 0, 0, 0, 0, 0, 0, 0, 0, 0, 0, 0, 0, 0, 0, 0, 0, 0, 0, 0, 0, 0, 0, 0, 0, 0, 0, 0, 0, 0, 0, 0, 0, 0, 0, 0, 0, 1, 0, 0]\n",
            "83\n"
          ]
        },
        {
          "output_type": "execute_result",
          "data": {
            "text/plain": [
              "(1, 83)"
            ]
          },
          "metadata": {},
          "execution_count": 53
        }
      ]
    },
    {
      "cell_type": "code",
      "metadata": {
        "colab": {
          "base_uri": "https://localhost:8080/"
        },
        "id": "F2TOKkzZVtAl",
        "outputId": "8937cd62-cb37-40b6-e67e-84d0b4c365cc"
      },
      "source": [
        "res = model.predict(client_corpus)[0]\n",
        "ERROR_THRESHOLD = 0.25\n",
        "results = [[i, r] for i, r in enumerate(res) if r > ERROR_THRESHOLD]\n",
        "# sort by strength of probability\n",
        "results.sort(key=lambda x: x[1], reverse=True)\n",
        "return_list = []\n",
        "for r in results:\n",
        "    return_list.append({\"intent\": classes[r[0]], \"probability\": str(r[1])})\n",
        "return_list"
      ],
      "execution_count": 52,
      "outputs": [
        {
          "output_type": "execute_result",
          "data": {
            "text/plain": [
              "[{'intent': 'greeting', 'probability': '0.85362005'}]"
            ]
          },
          "metadata": {},
          "execution_count": 52
        }
      ]
    },
    {
      "cell_type": "code",
      "metadata": {
        "colab": {
          "base_uri": "https://localhost:8080/"
        },
        "id": "1XUZh5SEXghc",
        "outputId": "b072b44e-63f8-4dc8-fb9a-9d7beae4d673"
      },
      "source": [
        "!pip install \"fastapi[all]\""
      ],
      "execution_count": 30,
      "outputs": [
        {
          "output_type": "stream",
          "name": "stdout",
          "text": [
            "Requirement already satisfied: fastapi[all] in /usr/local/lib/python3.7/dist-packages (0.70.0)\n",
            "Requirement already satisfied: starlette==0.16.0 in /usr/local/lib/python3.7/dist-packages (from fastapi[all]) (0.16.0)\n",
            "Requirement already satisfied: pydantic!=1.7,!=1.7.1,!=1.7.2,!=1.7.3,!=1.8,!=1.8.1,<2.0.0,>=1.6.2 in /usr/local/lib/python3.7/dist-packages (from fastapi[all]) (1.8.2)\n",
            "Requirement already satisfied: python-multipart<0.0.6,>=0.0.5 in /usr/local/lib/python3.7/dist-packages (from fastapi[all]) (0.0.5)\n",
            "Requirement already satisfied: itsdangerous<3.0.0,>=1.1.0 in /usr/local/lib/python3.7/dist-packages (from fastapi[all]) (1.1.0)\n",
            "Requirement already satisfied: jinja2<4.0.0,>=2.11.2 in /usr/local/lib/python3.7/dist-packages (from fastapi[all]) (2.11.3)\n",
            "Requirement already satisfied: uvicorn[standard]<0.16.0,>=0.12.0 in /usr/local/lib/python3.7/dist-packages (from fastapi[all]) (0.15.0)\n",
            "Requirement already satisfied: email_validator<2.0.0,>=1.1.1 in /usr/local/lib/python3.7/dist-packages (from fastapi[all]) (1.1.3)\n",
            "Requirement already satisfied: ujson<5.0.0,>=4.0.1 in /usr/local/lib/python3.7/dist-packages (from fastapi[all]) (4.2.0)\n",
            "Requirement already satisfied: requests<3.0.0,>=2.24.0 in /usr/local/lib/python3.7/dist-packages (from fastapi[all]) (2.26.0)\n",
            "Requirement already satisfied: orjson<4.0.0,>=3.2.1 in /usr/local/lib/python3.7/dist-packages (from fastapi[all]) (3.6.4)\n",
            "Requirement already satisfied: pyyaml<6.0.0,>=5.3.1 in /usr/local/lib/python3.7/dist-packages (from fastapi[all]) (5.4.1)\n",
            "Requirement already satisfied: anyio<4,>=3.0.0 in /usr/local/lib/python3.7/dist-packages (from starlette==0.16.0->fastapi[all]) (3.3.4)\n",
            "Requirement already satisfied: typing-extensions in /usr/local/lib/python3.7/dist-packages (from starlette==0.16.0->fastapi[all]) (3.10.0.2)\n",
            "Requirement already satisfied: idna>=2.8 in /usr/local/lib/python3.7/dist-packages (from anyio<4,>=3.0.0->starlette==0.16.0->fastapi[all]) (2.10)\n",
            "Requirement already satisfied: sniffio>=1.1 in /usr/local/lib/python3.7/dist-packages (from anyio<4,>=3.0.0->starlette==0.16.0->fastapi[all]) (1.2.0)\n",
            "Requirement already satisfied: dnspython>=1.15.0 in /usr/local/lib/python3.7/dist-packages (from email_validator<2.0.0,>=1.1.1->fastapi[all]) (2.1.0)\n",
            "Requirement already satisfied: MarkupSafe>=0.23 in /usr/local/lib/python3.7/dist-packages (from jinja2<4.0.0,>=2.11.2->fastapi[all]) (2.0.1)\n",
            "Requirement already satisfied: six>=1.4.0 in /usr/local/lib/python3.7/dist-packages (from python-multipart<0.0.6,>=0.0.5->fastapi[all]) (1.15.0)\n",
            "Requirement already satisfied: urllib3<1.27,>=1.21.1 in /usr/local/lib/python3.7/dist-packages (from requests<3.0.0,>=2.24.0->fastapi[all]) (1.24.3)\n",
            "Requirement already satisfied: certifi>=2017.4.17 in /usr/local/lib/python3.7/dist-packages (from requests<3.0.0,>=2.24.0->fastapi[all]) (2021.10.8)\n",
            "Requirement already satisfied: charset-normalizer~=2.0.0 in /usr/local/lib/python3.7/dist-packages (from requests<3.0.0,>=2.24.0->fastapi[all]) (2.0.7)\n",
            "Requirement already satisfied: asgiref>=3.4.0 in /usr/local/lib/python3.7/dist-packages (from uvicorn[standard]<0.16.0,>=0.12.0->fastapi[all]) (3.4.1)\n",
            "Requirement already satisfied: click>=7.0 in /usr/local/lib/python3.7/dist-packages (from uvicorn[standard]<0.16.0,>=0.12.0->fastapi[all]) (7.1.2)\n",
            "Requirement already satisfied: h11>=0.8 in /usr/local/lib/python3.7/dist-packages (from uvicorn[standard]<0.16.0,>=0.12.0->fastapi[all]) (0.12.0)\n",
            "Requirement already satisfied: websockets>=9.1 in /usr/local/lib/python3.7/dist-packages (from uvicorn[standard]<0.16.0,>=0.12.0->fastapi[all]) (10.1)\n",
            "Requirement already satisfied: uvloop!=0.15.0,!=0.15.1,>=0.14.0 in /usr/local/lib/python3.7/dist-packages (from uvicorn[standard]<0.16.0,>=0.12.0->fastapi[all]) (0.16.0)\n",
            "Requirement already satisfied: watchgod>=0.6 in /usr/local/lib/python3.7/dist-packages (from uvicorn[standard]<0.16.0,>=0.12.0->fastapi[all]) (0.7)\n",
            "Requirement already satisfied: httptools==0.2.* in /usr/local/lib/python3.7/dist-packages (from uvicorn[standard]<0.16.0,>=0.12.0->fastapi[all]) (0.2.0)\n",
            "Requirement already satisfied: python-dotenv>=0.13 in /usr/local/lib/python3.7/dist-packages (from uvicorn[standard]<0.16.0,>=0.12.0->fastapi[all]) (0.19.2)\n"
          ]
        }
      ]
    },
    {
      "cell_type": "code",
      "metadata": {
        "id": "VAFexsIjdeRw"
      },
      "source": [
        "from fastapi import FastAPI"
      ],
      "execution_count": 31,
      "outputs": []
    },
    {
      "cell_type": "code",
      "metadata": {
        "id": "9I_5kAdZey7w"
      },
      "source": [
        "#app = FastAPI()\n",
        "\n",
        "#@app.get(\"/predict\")\n",
        "def processRequest(inputFromClient):\n",
        "  client_corpus = []\n",
        "  #client_corpus = bow(inputFromClient, client_corpus)\n",
        "  for word in words:\n",
        "    client_corpus.append(1) if word in inputFromClient else client_corpus.append(0)\n",
        "  client_corpus = np.array(client_corpus).reshape(1,-1)\n",
        "  intent_list = predictIntent(client_corpus)\n",
        "  print(getResponse(intent_list,intents))\n",
        "\n",
        "# processing user input and creating bag of words...\n",
        "def bow(inputFromClient, client_corpus):\n",
        "  for word in words:\n",
        "    client_corpus.append(1) if word in inputFromClient else client_corpus.append(0)\n",
        "    return client_corpus\n",
        "\n",
        "# predicting intents here...\n",
        "#load classes/tags pickle file before executing this function...\n",
        "def predictIntent(client_corpus):\n",
        "  #load model here....\n",
        "  #----------------\n",
        "  res = model.predict(client_corpus)[0]\n",
        "  ERROR_THRESHOLD = 0.25\n",
        "  results = [[i, r] for i, r in enumerate(res) if r > ERROR_THRESHOLD]\n",
        "  # sort by strength of probability\n",
        "  results.sort(key=lambda x: x[1], reverse=True)\n",
        "  return_list = []\n",
        "  for r in results:\n",
        "      return_list.append({\"intent\": classes[r[0]], \"probability\": str(r[1])})\n",
        "  print(return_list)\n",
        "  return return_list\n",
        "\n",
        "#generating response based on predicted intent...\n",
        "#load intents json file before running this function...\n",
        "def getResponse(intent_list,json):\n",
        "  tag = intent_list[0]['intent']\n",
        "  list_of_intents = json['intents']\n",
        "  for intent in list_of_intents:\n",
        "    if intent['tag'] == tag:\n",
        "      result = random.choice(intent['responses'])\n",
        "      return result\n"
      ],
      "execution_count": 98,
      "outputs": []
    },
    {
      "cell_type": "code",
      "metadata": {
        "colab": {
          "base_uri": "https://localhost:8080/",
          "height": 535
        },
        "id": "20CRljYZhF-v",
        "outputId": "015d244c-e76e-4018-8ccd-429effa652cf"
      },
      "source": [
        "while(True):\n",
        "  userInput = input('Say Something: ')\n",
        "  processRequest(userInput)"
      ],
      "execution_count": 100,
      "outputs": [
        {
          "output_type": "error",
          "ename": "KeyboardInterrupt",
          "evalue": "ignored",
          "traceback": [
            "\u001b[0;31m---------------------------------------------------------------------------\u001b[0m",
            "\u001b[0;31mKeyboardInterrupt\u001b[0m                         Traceback (most recent call last)",
            "\u001b[0;32m/usr/local/lib/python3.7/dist-packages/ipykernel/kernelbase.py\u001b[0m in \u001b[0;36m_input_request\u001b[0;34m(self, prompt, ident, parent, password)\u001b[0m\n\u001b[1;32m    728\u001b[0m             \u001b[0;32mtry\u001b[0m\u001b[0;34m:\u001b[0m\u001b[0;34m\u001b[0m\u001b[0;34m\u001b[0m\u001b[0m\n\u001b[0;32m--> 729\u001b[0;31m                 \u001b[0mident\u001b[0m\u001b[0;34m,\u001b[0m \u001b[0mreply\u001b[0m \u001b[0;34m=\u001b[0m \u001b[0mself\u001b[0m\u001b[0;34m.\u001b[0m\u001b[0msession\u001b[0m\u001b[0;34m.\u001b[0m\u001b[0mrecv\u001b[0m\u001b[0;34m(\u001b[0m\u001b[0mself\u001b[0m\u001b[0;34m.\u001b[0m\u001b[0mstdin_socket\u001b[0m\u001b[0;34m,\u001b[0m \u001b[0;36m0\u001b[0m\u001b[0;34m)\u001b[0m\u001b[0;34m\u001b[0m\u001b[0;34m\u001b[0m\u001b[0m\n\u001b[0m\u001b[1;32m    730\u001b[0m             \u001b[0;32mexcept\u001b[0m \u001b[0mException\u001b[0m\u001b[0;34m:\u001b[0m\u001b[0;34m\u001b[0m\u001b[0;34m\u001b[0m\u001b[0m\n",
            "\u001b[0;32m/usr/local/lib/python3.7/dist-packages/jupyter_client/session.py\u001b[0m in \u001b[0;36mrecv\u001b[0;34m(self, socket, mode, content, copy)\u001b[0m\n\u001b[1;32m    802\u001b[0m         \u001b[0;32mtry\u001b[0m\u001b[0;34m:\u001b[0m\u001b[0;34m\u001b[0m\u001b[0;34m\u001b[0m\u001b[0m\n\u001b[0;32m--> 803\u001b[0;31m             \u001b[0mmsg_list\u001b[0m \u001b[0;34m=\u001b[0m \u001b[0msocket\u001b[0m\u001b[0;34m.\u001b[0m\u001b[0mrecv_multipart\u001b[0m\u001b[0;34m(\u001b[0m\u001b[0mmode\u001b[0m\u001b[0;34m,\u001b[0m \u001b[0mcopy\u001b[0m\u001b[0;34m=\u001b[0m\u001b[0mcopy\u001b[0m\u001b[0;34m)\u001b[0m\u001b[0;34m\u001b[0m\u001b[0;34m\u001b[0m\u001b[0m\n\u001b[0m\u001b[1;32m    804\u001b[0m         \u001b[0;32mexcept\u001b[0m \u001b[0mzmq\u001b[0m\u001b[0;34m.\u001b[0m\u001b[0mZMQError\u001b[0m \u001b[0;32mas\u001b[0m \u001b[0me\u001b[0m\u001b[0;34m:\u001b[0m\u001b[0;34m\u001b[0m\u001b[0;34m\u001b[0m\u001b[0m\n",
            "\u001b[0;32m/usr/local/lib/python3.7/dist-packages/zmq/sugar/socket.py\u001b[0m in \u001b[0;36mrecv_multipart\u001b[0;34m(self, flags, copy, track)\u001b[0m\n\u001b[1;32m    624\u001b[0m         \"\"\"\n\u001b[0;32m--> 625\u001b[0;31m         \u001b[0mparts\u001b[0m \u001b[0;34m=\u001b[0m \u001b[0;34m[\u001b[0m\u001b[0mself\u001b[0m\u001b[0;34m.\u001b[0m\u001b[0mrecv\u001b[0m\u001b[0;34m(\u001b[0m\u001b[0mflags\u001b[0m\u001b[0;34m,\u001b[0m \u001b[0mcopy\u001b[0m\u001b[0;34m=\u001b[0m\u001b[0mcopy\u001b[0m\u001b[0;34m,\u001b[0m \u001b[0mtrack\u001b[0m\u001b[0;34m=\u001b[0m\u001b[0mtrack\u001b[0m\u001b[0;34m)\u001b[0m\u001b[0;34m]\u001b[0m\u001b[0;34m\u001b[0m\u001b[0;34m\u001b[0m\u001b[0m\n\u001b[0m\u001b[1;32m    626\u001b[0m         \u001b[0;31m# have first part already, only loop while more to receive\u001b[0m\u001b[0;34m\u001b[0m\u001b[0;34m\u001b[0m\u001b[0;34m\u001b[0m\u001b[0m\n",
            "\u001b[0;32mzmq/backend/cython/socket.pyx\u001b[0m in \u001b[0;36mzmq.backend.cython.socket.Socket.recv\u001b[0;34m()\u001b[0m\n",
            "\u001b[0;32mzmq/backend/cython/socket.pyx\u001b[0m in \u001b[0;36mzmq.backend.cython.socket.Socket.recv\u001b[0;34m()\u001b[0m\n",
            "\u001b[0;32mzmq/backend/cython/socket.pyx\u001b[0m in \u001b[0;36mzmq.backend.cython.socket._recv_copy\u001b[0;34m()\u001b[0m\n",
            "\u001b[0;32m/usr/local/lib/python3.7/dist-packages/zmq/backend/cython/checkrc.pxd\u001b[0m in \u001b[0;36mzmq.backend.cython.checkrc._check_rc\u001b[0;34m()\u001b[0m\n",
            "\u001b[0;31mKeyboardInterrupt\u001b[0m: ",
            "\nDuring handling of the above exception, another exception occurred:\n",
            "\u001b[0;31mKeyboardInterrupt\u001b[0m                         Traceback (most recent call last)",
            "\u001b[0;32m<ipython-input-100-718298910b7e>\u001b[0m in \u001b[0;36m<module>\u001b[0;34m()\u001b[0m\n\u001b[1;32m      1\u001b[0m \u001b[0;32mwhile\u001b[0m\u001b[0;34m(\u001b[0m\u001b[0;32mTrue\u001b[0m\u001b[0;34m)\u001b[0m\u001b[0;34m:\u001b[0m\u001b[0;34m\u001b[0m\u001b[0;34m\u001b[0m\u001b[0m\n\u001b[0;32m----> 2\u001b[0;31m   \u001b[0muserInput\u001b[0m \u001b[0;34m=\u001b[0m \u001b[0minput\u001b[0m\u001b[0;34m(\u001b[0m\u001b[0;34m'Say Something: '\u001b[0m\u001b[0;34m)\u001b[0m\u001b[0;34m\u001b[0m\u001b[0;34m\u001b[0m\u001b[0m\n\u001b[0m\u001b[1;32m      3\u001b[0m   \u001b[0mprocessRequest\u001b[0m\u001b[0;34m(\u001b[0m\u001b[0muserInput\u001b[0m\u001b[0;34m)\u001b[0m\u001b[0;34m\u001b[0m\u001b[0;34m\u001b[0m\u001b[0m\n",
            "\u001b[0;32m/usr/local/lib/python3.7/dist-packages/ipykernel/kernelbase.py\u001b[0m in \u001b[0;36mraw_input\u001b[0;34m(self, prompt)\u001b[0m\n\u001b[1;32m    702\u001b[0m             \u001b[0mself\u001b[0m\u001b[0;34m.\u001b[0m\u001b[0m_parent_ident\u001b[0m\u001b[0;34m,\u001b[0m\u001b[0;34m\u001b[0m\u001b[0;34m\u001b[0m\u001b[0m\n\u001b[1;32m    703\u001b[0m             \u001b[0mself\u001b[0m\u001b[0;34m.\u001b[0m\u001b[0m_parent_header\u001b[0m\u001b[0;34m,\u001b[0m\u001b[0;34m\u001b[0m\u001b[0;34m\u001b[0m\u001b[0m\n\u001b[0;32m--> 704\u001b[0;31m             \u001b[0mpassword\u001b[0m\u001b[0;34m=\u001b[0m\u001b[0;32mFalse\u001b[0m\u001b[0;34m,\u001b[0m\u001b[0;34m\u001b[0m\u001b[0;34m\u001b[0m\u001b[0m\n\u001b[0m\u001b[1;32m    705\u001b[0m         )\n\u001b[1;32m    706\u001b[0m \u001b[0;34m\u001b[0m\u001b[0m\n",
            "\u001b[0;32m/usr/local/lib/python3.7/dist-packages/ipykernel/kernelbase.py\u001b[0m in \u001b[0;36m_input_request\u001b[0;34m(self, prompt, ident, parent, password)\u001b[0m\n\u001b[1;32m    732\u001b[0m             \u001b[0;32mexcept\u001b[0m \u001b[0mKeyboardInterrupt\u001b[0m\u001b[0;34m:\u001b[0m\u001b[0;34m\u001b[0m\u001b[0;34m\u001b[0m\u001b[0m\n\u001b[1;32m    733\u001b[0m                 \u001b[0;31m# re-raise KeyboardInterrupt, to truncate traceback\u001b[0m\u001b[0;34m\u001b[0m\u001b[0;34m\u001b[0m\u001b[0;34m\u001b[0m\u001b[0m\n\u001b[0;32m--> 734\u001b[0;31m                 \u001b[0;32mraise\u001b[0m \u001b[0mKeyboardInterrupt\u001b[0m\u001b[0;34m\u001b[0m\u001b[0;34m\u001b[0m\u001b[0m\n\u001b[0m\u001b[1;32m    735\u001b[0m             \u001b[0;32melse\u001b[0m\u001b[0;34m:\u001b[0m\u001b[0;34m\u001b[0m\u001b[0;34m\u001b[0m\u001b[0m\n\u001b[1;32m    736\u001b[0m                 \u001b[0;32mbreak\u001b[0m\u001b[0;34m\u001b[0m\u001b[0;34m\u001b[0m\u001b[0m\n",
            "\u001b[0;31mKeyboardInterrupt\u001b[0m: "
          ]
        }
      ]
    },
    {
      "cell_type": "code",
      "metadata": {
        "id": "Nan8zvQGoqLS"
      },
      "source": [
        "\n"
      ],
      "execution_count": null,
      "outputs": []
    }
  ]
}